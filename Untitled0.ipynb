{
 "metadata": {
  "name": "",
  "signature": "sha256:2814deff06e4a6b218b6bd974eede072cd56f433d99462ab84ae0cd8003741e6"
 },
 "nbformat": 3,
 "nbformat_minor": 0,
 "worksheets": [
  {
   "cells": [
    {
     "cell_type": "code",
     "collapsed": false,
     "input": [
      "text = \"There would have been a time for such a word\"\n",
      "pattern = \"word\"\n"
     ],
     "language": "python",
     "metadata": {},
     "outputs": [],
     "prompt_number": 1
    },
    {
     "cell_type": "code",
     "collapsed": false,
     "input": [
      "def naive(text, pattern):\n",
      "    matches = []\n",
      "    comparisons = 0\n",
      "    for i in range(len(text) - len(pattern) + 1):\n",
      "        for j in range(len(pattern)):\n",
      "            comparisons += 1\n",
      "            if text[i+j] != pattern[j]:\n",
      "                break\n",
      "        else:\n",
      "            matches.append(i)\n",
      "    return (matches, comparisons)"
     ],
     "language": "python",
     "metadata": {},
     "outputs": [],
     "prompt_number": 39
    },
    {
     "cell_type": "code",
     "collapsed": false,
     "input": [
      "def reverseComplement(dna):\n",
      "    complements = dict(A='T', C='G', T='A', G='C', N='N')\n",
      "    revComp = ''.join([complements.get(base, 'N') for base in dna[::-1]])\n",
      "    return(revComp)"
     ],
     "language": "python",
     "metadata": {},
     "outputs": [],
     "prompt_number": 23
    },
    {
     "cell_type": "code",
     "collapsed": false,
     "input": [
      "reverseComplement('GATACCA')"
     ],
     "language": "python",
     "metadata": {},
     "outputs": [
      {
       "metadata": {},
       "output_type": "pyout",
       "prompt_number": 24,
       "text": [
        "'TGGTATC'"
       ]
      }
     ],
     "prompt_number": 24
    },
    {
     "cell_type": "code",
     "collapsed": false,
     "input": [
      "naive(text, pattern)"
     ],
     "language": "python",
     "metadata": {},
     "outputs": [
      {
       "output_type": "stream",
       "stream": "stdout",
       "text": [
        "('working at:', 6)\n",
        "('working at:', 6)\n",
        "('working at:', 40)\n",
        "('working at:', 40)\n",
        "('working at:', 40)\n"
       ]
      },
      {
       "metadata": {},
       "output_type": "pyout",
       "prompt_number": 21,
       "text": [
        "([40], 46)"
       ]
      }
     ],
     "prompt_number": 21
    },
    {
     "cell_type": "code",
     "collapsed": false,
     "input": [
      "print(text[40:(40+len(pattern))])\n",
      "print(len(text))\n",
      "print(len(pattern))"
     ],
     "language": "python",
     "metadata": {},
     "outputs": [
      {
       "output_type": "stream",
       "stream": "stdout",
       "text": [
        "word\n",
        "44\n",
        "4\n"
       ]
      }
     ],
     "prompt_number": 5
    },
    {
     "cell_type": "code",
     "collapsed": false,
     "input": [
      "from Bio import SeqIO\n",
      "\n",
      "def readGenome(filename):\n",
      "    sequence = str(SeqIO.read(filename, \"fasta\").seq).upper()\n",
      "    return(sequence)"
     ],
     "language": "python",
     "metadata": {},
     "outputs": [],
     "prompt_number": 30
    },
    {
     "cell_type": "code",
     "collapsed": false,
     "input": [
      "fasta_filename = '/home/pvh/PycharmProjects/galaxy-tooltest/test-data/1.fasta'\n",
      "dna = readGenome(fasta_filename)\n",
      "print dna[:20]"
     ],
     "language": "python",
     "metadata": {},
     "outputs": [
      {
       "output_type": "stream",
       "stream": "stdout",
       "text": [
        "GTTTGCCATCTTTTGCTGCT\n"
       ]
      }
     ],
     "prompt_number": 31
    },
    {
     "cell_type": "code",
     "collapsed": false,
     "input": [
      "def readFastq(filename):\n",
      "    sequences = []\n",
      "    qualities = []\n",
      "    input_file = open(filename)\n",
      "    with input_file:\n",
      "        while True:\n",
      "            input_file.readline()\n",
      "            seq = input_file.readline().rstrip()\n",
      "            input_file.readline()\n",
      "            qual = input_file.readline()\n",
      "            if len(seq) == 0:\n",
      "                break\n",
      "            sequences.append(seq)\n",
      "            qualities.append(seq)\n",
      "    return(sequences, qualities)"
     ],
     "language": "python",
     "metadata": {},
     "outputs": [],
     "prompt_number": 33
    },
    {
     "cell_type": "code",
     "collapsed": false,
     "input": [
      "genome = readGenome('/tmp/lambda_virus.fa')"
     ],
     "language": "python",
     "metadata": {},
     "outputs": [],
     "prompt_number": 34
    },
    {
     "cell_type": "code",
     "collapsed": false,
     "input": [
      "pattern = 'AGGT'\n",
      "rc_pattern = reverseComplement(pattern)\n",
      "matches = naive(genome, pattern)[0]\n",
      "rc_matches = naive(genome, rc_pattern)[0]\n",
      "print len(matches), len(rc_matches), len(rc_matches) + len(matches)"
     ],
     "language": "python",
     "metadata": {},
     "outputs": [
      {
       "output_type": "stream",
       "stream": "stdout",
       "text": [
        "150 156 306\n"
       ]
      }
     ],
     "prompt_number": 49
    },
    {
     "cell_type": "code",
     "collapsed": false,
     "input": [
      "pattern = 'TTAA'\n",
      "rc_pattern = reverseComplement(pattern)\n",
      "matches = naive(genome, pattern)[0]\n",
      "rc_matches = naive(genome, rc_pattern)[0]\n",
      "all_matches = matches[:]\n",
      "all_matches.extend(rc_matches)\n",
      "all_matches = set(all_matches)\n",
      "print len(matches), len(rc_matches), len(rc_matches) + len(matches)\n",
      "print len(all_matches)"
     ],
     "language": "python",
     "metadata": {},
     "outputs": [
      {
       "output_type": "stream",
       "stream": "stdout",
       "text": [
        "195 195 390\n",
        "195\n"
       ]
      }
     ],
     "prompt_number": 52
    },
    {
     "cell_type": "code",
     "collapsed": false,
     "input": [
      "pattern = 'ACTAAGT'\n",
      "rc_pattern = reverseComplement(pattern)\n",
      "print rc_pattern\n",
      "matches = naive(genome, pattern)\n",
      "print matches[0][0]\n",
      "rc_matches = naive(genome, rc_pattern)\n",
      "print rc_matches[0][0]"
     ],
     "language": "python",
     "metadata": {},
     "outputs": [
      {
       "output_type": "stream",
       "stream": "stdout",
       "text": [
        "ACTTAGT\n",
        "27733\n",
        "26028\n"
       ]
      }
     ],
     "prompt_number": 55
    },
    {
     "cell_type": "code",
     "collapsed": false,
     "input": [
      "print genome[26028:26028+len(pattern)]"
     ],
     "language": "python",
     "metadata": {},
     "outputs": [
      {
       "output_type": "stream",
       "stream": "stdout",
       "text": [
        "ACTTAGT\n"
       ]
      }
     ],
     "prompt_number": 56
    },
    {
     "cell_type": "code",
     "collapsed": false,
     "input": [
      "pattern = 'AGTCGA'\n",
      "rc_pattern = reverseComplement(pattern)\n",
      "print rc_pattern\n",
      "matches = naive(genome, pattern)\n",
      "print matches[0][0]\n",
      "rc_matches = naive(genome, rc_pattern)\n",
      "print rc_matches[0][0]"
     ],
     "language": "python",
     "metadata": {},
     "outputs": [
      {
       "output_type": "stream",
       "stream": "stdout",
       "text": [
        "TCGACT\n",
        "18005\n",
        "450"
       ]
      },
      {
       "output_type": "stream",
       "stream": "stdout",
       "text": [
        "\n"
       ]
      }
     ],
     "prompt_number": 57
    },
    {
     "cell_type": "code",
     "collapsed": false,
     "input": [
      "def naive_2mm(text, pattern):\n",
      "    matches = []\n",
      "    comparisons = 0\n",
      "    for i in range(len(text) - len(pattern) + 1):\n",
      "        mismatches = 0\n",
      "        for j in range(len(pattern)):\n",
      "            comparisons += 1\n",
      "            if text[i+j] != pattern[j]:\n",
      "                mismatches += 1\n",
      "                if mismatches > 2:\n",
      "                    break\n",
      "        else:\n",
      "            matches.append(i)\n",
      "    return (matches, comparisons)"
     ],
     "language": "python",
     "metadata": {},
     "outputs": [],
     "prompt_number": 60
    },
    {
     "cell_type": "code",
     "collapsed": false,
     "input": [
      "naive_2mm('ACTTACTTGATAAAGT', 'ACTTTA')"
     ],
     "language": "python",
     "metadata": {},
     "outputs": [
      {
       "metadata": {},
       "output_type": "pyout",
       "prompt_number": 61,
       "text": [
        "([0, 4], 43)"
       ]
      }
     ],
     "prompt_number": 61
    },
    {
     "cell_type": "code",
     "collapsed": false,
     "input": [
      "len(naive_2mm(genome, 'TTCAAGCC')[0])"
     ],
     "language": "python",
     "metadata": {},
     "outputs": [
      {
       "metadata": {},
       "output_type": "pyout",
       "prompt_number": 63,
       "text": [
        "191"
       ]
      }
     ],
     "prompt_number": 63
    },
    {
     "cell_type": "code",
     "collapsed": false,
     "input": [
      "naive_2mm(genome, 'AGGAGGTT')[0][0]"
     ],
     "language": "python",
     "metadata": {},
     "outputs": [
      {
       "metadata": {},
       "output_type": "pyout",
       "prompt_number": 64,
       "text": [
        "49"
       ]
      }
     ],
     "prompt_number": 64
    },
    {
     "cell_type": "code",
     "collapsed": false,
     "input": [
      "from Bio import SeqIO\n",
      "\n",
      "seq_records = []\n",
      "for seq_record in SeqIO.parse(\"/tmp/ERR037900_1.first1000.fastq\", \"fastq\"):\n",
      "    seq_records.append(seq_record)"
     ],
     "language": "python",
     "metadata": {},
     "outputs": [],
     "prompt_number": 66
    },
    {
     "cell_type": "code",
     "collapsed": false,
     "input": [
      "%matplotlib inline"
     ],
     "language": "python",
     "metadata": {},
     "outputs": [],
     "prompt_number": 72
    },
    {
     "cell_type": "code",
     "collapsed": false,
     "input": [
      "from matplotlib import pyplot as plt"
     ],
     "language": "python",
     "metadata": {},
     "outputs": [],
     "prompt_number": 73
    },
    {
     "cell_type": "code",
     "collapsed": false,
     "input": [
      "plt.plot(seq_records[0].letter_annotations['phred_quality'])"
     ],
     "language": "python",
     "metadata": {},
     "outputs": [
      {
       "metadata": {},
       "output_type": "pyout",
       "prompt_number": 74,
       "text": [
        "[<matplotlib.lines.Line2D at 0x7f7e2b48d750>]"
       ]
      },
      {
       "metadata": {},
       "output_type": "display_data",
       "png": "[encoded data removed]",
       "text": [
        "<matplotlib.figure.Figure at 0x7f7e2d765610>"
       ]
      }
     ],
     "prompt_number": 74
    },
    {
     "cell_type": "code",
     "collapsed": false,
     "input": [
      "plt.plot(seq_records[1].letter_annotations['phred_quality'])"
     ],
     "language": "python",
     "metadata": {},
     "outputs": [
      {
       "metadata": {},
       "output_type": "pyout",
       "prompt_number": 75,
       "text": [
        "[<matplotlib.lines.Line2D at 0x7f7e2b33f3d0>]"
       ]
      },
      {
       "metadata": {},
       "output_type": "display_data",
       "png": "[encoded data removed]",
       "text": [
        "<matplotlib.figure.Figure at 0x7f7e2b3a4ed0>"
       ]
      }
     ],
     "prompt_number": 75
    },
    {
     "cell_type": "code",
     "collapsed": false,
     "input": [
      "py_matrix = [sr.letter_annotations['phred_quality'] for sr in seq_records]"
     ],
     "language": "python",
     "metadata": {},
     "outputs": [],
     "prompt_number": 76
    },
    {
     "cell_type": "code",
     "collapsed": false,
     "input": [
      "import numpy as np"
     ],
     "language": "python",
     "metadata": {},
     "outputs": [],
     "prompt_number": 77
    },
    {
     "cell_type": "code",
     "collapsed": false,
     "input": [
      "matrix = np.array(py_matrix, dtype=np.int32)"
     ],
     "language": "python",
     "metadata": {},
     "outputs": [],
     "prompt_number": 78
    },
    {
     "cell_type": "code",
     "collapsed": false,
     "input": [
      "matrix"
     ],
     "language": "python",
     "metadata": {},
     "outputs": [
      {
       "metadata": {},
       "output_type": "pyout",
       "prompt_number": 79,
       "text": [
        "array([[39, 39, 39, ..., 34, 27, 36],\n",
        "       [39, 39, 39, ...,  2,  2,  2],\n",
        "       [39, 39, 39, ...,  2,  2,  2],\n",
        "       ..., \n",
        "       [31, 30, 31, ...,  2,  2,  2],\n",
        "       [39, 39, 39, ..., 17, 15, 22],\n",
        "       [38, 38, 38, ...,  2,  2,  2]], dtype=int32)"
       ]
      }
     ],
     "prompt_number": 79
    },
    {
     "cell_type": "code",
     "collapsed": false,
     "input": [
      "plt.plot(np.mean(matrix, axis=0))"
     ],
     "language": "python",
     "metadata": {},
     "outputs": [
      {
       "metadata": {},
       "output_type": "pyout",
       "prompt_number": 86,
       "text": [
        "[<matplotlib.lines.Line2D at 0x7f7e2b27d690>]"
       ]
      },
      {
       "metadata": {},
       "output_type": "display_data",
       "png": "[encoded data removed]",
       "text": [
        "<matplotlib.figure.Figure at 0x7f7e2b4cf190>"
       ]
      }
     ],
     "prompt_number": 86
    },
    {
     "cell_type": "code",
     "collapsed": false,
     "input": [
      "np.argmin(np.mean(matrix, axis=0))"
     ],
     "language": "python",
     "metadata": {},
     "outputs": [
      {
       "metadata": {},
       "output_type": "pyout",
       "prompt_number": 88,
       "text": [
        "66"
       ]
      }
     ],
     "prompt_number": 88
    },
    {
     "cell_type": "code",
     "collapsed": false,
     "input": [],
     "language": "python",
     "metadata": {},
     "outputs": []
    }
   ],
   "metadata": {}
  }
 ]
}